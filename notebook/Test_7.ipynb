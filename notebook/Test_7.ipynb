{
 "cells": [
  {
   "cell_type": "code",
   "execution_count": 1,
   "id": "9b33a627",
   "metadata": {},
   "outputs": [],
   "source": [
    "import pandas as pd"
   ]
  },
  {
   "cell_type": "code",
   "execution_count": 2,
   "id": "91fef2ce",
   "metadata": {},
   "outputs": [],
   "source": [
    "sma_data=pd.read_csv(\"Standard_Metropolitan_Areas_Data-data.csv\")"
   ]
  },
  {
   "cell_type": "code",
   "execution_count": 4,
   "id": "38db35c1",
   "metadata": {},
   "outputs": [
    {
     "data": {
      "text/html": [
       "<div>\n",
       "<style scoped>\n",
       "    .dataframe tbody tr th:only-of-type {\n",
       "        vertical-align: middle;\n",
       "    }\n",
       "\n",
       "    .dataframe tbody tr th {\n",
       "        vertical-align: top;\n",
       "    }\n",
       "\n",
       "    .dataframe thead th {\n",
       "        text-align: right;\n",
       "    }\n",
       "</style>\n",
       "<table border=\"1\" class=\"dataframe\">\n",
       "  <thead>\n",
       "    <tr style=\"text-align: right;\">\n",
       "      <th></th>\n",
       "      <th>land_area</th>\n",
       "      <th>percent_city</th>\n",
       "      <th>percent_senior</th>\n",
       "      <th>physicians</th>\n",
       "      <th>hospital_beds</th>\n",
       "      <th>graduates</th>\n",
       "      <th>work_force</th>\n",
       "      <th>income</th>\n",
       "      <th>region</th>\n",
       "      <th>crime_rate</th>\n",
       "    </tr>\n",
       "  </thead>\n",
       "  <tbody>\n",
       "    <tr>\n",
       "      <th>20</th>\n",
       "      <td>9155</td>\n",
       "      <td>53.8</td>\n",
       "      <td>11.1</td>\n",
       "      <td>2280</td>\n",
       "      <td>6450</td>\n",
       "      <td>60.1</td>\n",
       "      <td>575.2</td>\n",
       "      <td>7766</td>\n",
       "      <td>4</td>\n",
       "      <td>85.62</td>\n",
       "    </tr>\n",
       "    <tr>\n",
       "      <th>74</th>\n",
       "      <td>1412</td>\n",
       "      <td>39.2</td>\n",
       "      <td>11.3</td>\n",
       "      <td>436</td>\n",
       "      <td>1837</td>\n",
       "      <td>49.4</td>\n",
       "      <td>154.2</td>\n",
       "      <td>2098</td>\n",
       "      <td>4</td>\n",
       "      <td>82.68</td>\n",
       "    </tr>\n",
       "    <tr>\n",
       "      <th>53</th>\n",
       "      <td>5966</td>\n",
       "      <td>39.5</td>\n",
       "      <td>9.6</td>\n",
       "      <td>737</td>\n",
       "      <td>1907</td>\n",
       "      <td>52.7</td>\n",
       "      <td>246.6</td>\n",
       "      <td>3007</td>\n",
       "      <td>4</td>\n",
       "      <td>80.94</td>\n",
       "    </tr>\n",
       "    <tr>\n",
       "      <th>4</th>\n",
       "      <td>2480</td>\n",
       "      <td>31.5</td>\n",
       "      <td>10.5</td>\n",
       "      <td>8502</td>\n",
       "      <td>16751</td>\n",
       "      <td>66.1</td>\n",
       "      <td>1514.5</td>\n",
       "      <td>26573</td>\n",
       "      <td>4</td>\n",
       "      <td>80.19</td>\n",
       "    </tr>\n",
       "    <tr>\n",
       "      <th>67</th>\n",
       "      <td>8152</td>\n",
       "      <td>22.3</td>\n",
       "      <td>9.1</td>\n",
       "      <td>405</td>\n",
       "      <td>1254</td>\n",
       "      <td>51.7</td>\n",
       "      <td>165.6</td>\n",
       "      <td>2257</td>\n",
       "      <td>4</td>\n",
       "      <td>78.10</td>\n",
       "    </tr>\n",
       "  </tbody>\n",
       "</table>\n",
       "</div>"
      ],
      "text/plain": [
       "    land_area  percent_city  percent_senior  physicians  hospital_beds  \\\n",
       "20       9155          53.8            11.1        2280           6450   \n",
       "74       1412          39.2            11.3         436           1837   \n",
       "53       5966          39.5             9.6         737           1907   \n",
       "4        2480          31.5            10.5        8502          16751   \n",
       "67       8152          22.3             9.1         405           1254   \n",
       "\n",
       "    graduates  work_force  income  region  crime_rate  \n",
       "20       60.1       575.2    7766       4       85.62  \n",
       "74       49.4       154.2    2098       4       82.68  \n",
       "53       52.7       246.6    3007       4       80.94  \n",
       "4        66.1      1514.5   26573       4       80.19  \n",
       "67       51.7       165.6    2257       4       78.10  "
      ]
     },
     "execution_count": 4,
     "metadata": {},
     "output_type": "execute_result"
    }
   ],
   "source": [
    "sma_data.sort_values(by='crime_rate',ascending=False).head()"
   ]
  },
  {
   "cell_type": "code",
   "execution_count": null,
   "id": "bfa3bc03",
   "metadata": {},
   "outputs": [],
   "source": []
  }
 ],
 "metadata": {
  "kernelspec": {
   "display_name": "Python 3 (ipykernel)",
   "language": "python",
   "name": "python3"
  },
  "language_info": {
   "codemirror_mode": {
    "name": "ipython",
    "version": 3
   },
   "file_extension": ".py",
   "mimetype": "text/x-python",
   "name": "python",
   "nbconvert_exporter": "python",
   "pygments_lexer": "ipython3",
   "version": "3.9.7"
  }
 },
 "nbformat": 4,
 "nbformat_minor": 5
}
