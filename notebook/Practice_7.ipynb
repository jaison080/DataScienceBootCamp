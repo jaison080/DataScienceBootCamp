{
 "cells": [
  {
   "cell_type": "code",
   "execution_count": 1,
   "id": "f5851713",
   "metadata": {},
   "outputs": [],
   "source": [
    "def calculate_triangle_area(base,height):\n",
    "    return 1/2*(base*height)"
   ]
  },
  {
   "cell_type": "code",
   "execution_count": 2,
   "id": "0a9209b5",
   "metadata": {},
   "outputs": [],
   "source": [
    "def calculate_square_area(length):\n",
    "    return length*length"
   ]
  }
 ],
 "metadata": {
  "kernelspec": {
   "display_name": "Python 3 (ipykernel)",
   "language": "python",
   "name": "python3"
  },
  "language_info": {
   "codemirror_mode": {
    "name": "ipython",
    "version": 3
   },
   "file_extension": ".py",
   "mimetype": "text/x-python",
   "name": "python",
   "nbconvert_exporter": "python",
   "pygments_lexer": "ipython3",
   "version": "3.9.7"
  }
 },
 "nbformat": 4,
 "nbformat_minor": 5
}
