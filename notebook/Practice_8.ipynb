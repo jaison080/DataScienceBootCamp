{
 "cells": [
  {
   "cell_type": "code",
   "execution_count": 21,
   "id": "d7cee061",
   "metadata": {},
   "outputs": [],
   "source": [
    "import Practice_7 as f"
   ]
  },
  {
   "cell_type": "code",
   "execution_count": 22,
   "id": "fbbb3112",
   "metadata": {},
   "outputs": [],
   "source": [
    "area=f.calculate_square_area(5)"
   ]
  },
  {
   "cell_type": "code",
   "execution_count": 23,
   "id": "b24ab3cd",
   "metadata": {},
   "outputs": [
    {
     "name": "stdout",
     "output_type": "stream",
     "text": [
      "25\n"
     ]
    }
   ],
   "source": [
    "print(area)"
   ]
  },
  {
   "cell_type": "code",
   "execution_count": 24,
   "id": "85fcb2bb",
   "metadata": {},
   "outputs": [],
   "source": [
    "area1=f.calculate_triangle_area(5,10)"
   ]
  },
  {
   "cell_type": "code",
   "execution_count": 25,
   "id": "ec09e7d2",
   "metadata": {},
   "outputs": [
    {
     "name": "stdout",
     "output_type": "stream",
     "text": [
      "25.0\n"
     ]
    }
   ],
   "source": [
    "print(area1)"
   ]
  }
 ],
 "metadata": {
  "kernelspec": {
   "display_name": "Python 3 (ipykernel)",
   "language": "python",
   "name": "python3"
  },
  "language_info": {
   "codemirror_mode": {
    "name": "ipython",
    "version": 3
   },
   "file_extension": ".py",
   "mimetype": "text/x-python",
   "name": "python",
   "nbconvert_exporter": "python",
   "pygments_lexer": "ipython3",
   "version": "3.9.7"
  }
 },
 "nbformat": 4,
 "nbformat_minor": 5
}
