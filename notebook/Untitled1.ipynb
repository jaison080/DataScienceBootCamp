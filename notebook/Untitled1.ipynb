{
 "cells": [
  {
   "cell_type": "code",
   "execution_count": 1,
   "id": "7a253a16",
   "metadata": {},
   "outputs": [],
   "source": [
    "item1=\"bread\""
   ]
  },
  {
   "cell_type": "code",
   "execution_count": 2,
   "id": "472e683f",
   "metadata": {},
   "outputs": [],
   "source": [
    "item2=\"pasta\""
   ]
  },
  {
   "cell_type": "code",
   "execution_count": null,
   "id": "09c3bba2",
   "metadata": {},
   "outputs": [],
   "source": [
    "item3=\"fruits\""
   ]
  },
  {
   "cell_type": "code",
   "execution_count": null,
   "id": "a8ce4887",
   "metadata": {},
   "outputs": [],
   "source": [
    "items=[\"bread\",\"pasta\",\"fruits\",\"veggies\"]"
   ]
  },
  {
   "cell_type": "code",
   "execution_count": null,
   "id": "88d510e6",
   "metadata": {},
   "outputs": [],
   "source": [
    "items"
   ]
  }
 ],
 "metadata": {
  "kernelspec": {
   "display_name": "Python 3 (ipykernel)",
   "language": "python",
   "name": "python3"
  },
  "language_info": {
   "codemirror_mode": {
    "name": "ipython",
    "version": 3
   },
   "file_extension": ".py",
   "mimetype": "text/x-python",
   "name": "python",
   "nbconvert_exporter": "python",
   "pygments_lexer": "ipython3",
   "version": "3.9.7"
  }
 },
 "nbformat": 4,
 "nbformat_minor": 5
}
