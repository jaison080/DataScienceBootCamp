{
 "cells": [
  {
   "cell_type": "code",
   "execution_count": 5,
   "id": "ed1a8699",
   "metadata": {},
   "outputs": [],
   "source": [
    "exp=[2200,2350,2600,2130,2190]"
   ]
  },
  {
   "cell_type": "code",
   "execution_count": 6,
   "id": "16b70c31",
   "metadata": {},
   "outputs": [
    {
     "data": {
      "text/plain": [
       "150"
      ]
     },
     "execution_count": 6,
     "metadata": {},
     "output_type": "execute_result"
    }
   ],
   "source": [
    "exp[1]-exp[0]"
   ]
  },
  {
   "cell_type": "code",
   "execution_count": 7,
   "id": "dadcead5",
   "metadata": {},
   "outputs": [
    {
     "data": {
      "text/plain": [
       "7150"
      ]
     },
     "execution_count": 7,
     "metadata": {},
     "output_type": "execute_result"
    }
   ],
   "source": [
    "exp[0]+exp[1]+exp[2]"
   ]
  },
  {
   "cell_type": "code",
   "execution_count": 8,
   "id": "2521c9cf",
   "metadata": {},
   "outputs": [
    {
     "data": {
      "text/plain": [
       "False"
      ]
     },
     "execution_count": 8,
     "metadata": {},
     "output_type": "execute_result"
    }
   ],
   "source": [
    "2000 in exp"
   ]
  },
  {
   "cell_type": "code",
   "execution_count": 9,
   "id": "9d86fb2f",
   "metadata": {},
   "outputs": [],
   "source": [
    "exp.append(1980)"
   ]
  },
  {
   "cell_type": "code",
   "execution_count": 10,
   "id": "e5a41f5e",
   "metadata": {},
   "outputs": [
    {
     "data": {
      "text/plain": [
       "[2200, 2350, 2600, 2130, 2190, 1980]"
      ]
     },
     "execution_count": 10,
     "metadata": {},
     "output_type": "execute_result"
    }
   ],
   "source": [
    "exp"
   ]
  },
  {
   "cell_type": "code",
   "execution_count": 11,
   "id": "a99d1f98",
   "metadata": {},
   "outputs": [],
   "source": [
    "exp[3]=exp[3]-200"
   ]
  },
  {
   "cell_type": "code",
   "execution_count": 12,
   "id": "8138eccf",
   "metadata": {},
   "outputs": [
    {
     "data": {
      "text/plain": [
       "[2200, 2350, 2600, 1930, 2190, 1980]"
      ]
     },
     "execution_count": 12,
     "metadata": {},
     "output_type": "execute_result"
    }
   ],
   "source": [
    "exp"
   ]
  },
  {
   "cell_type": "code",
   "execution_count": null,
   "id": "b9c5d3c2",
   "metadata": {},
   "outputs": [],
   "source": []
  }
 ],
 "metadata": {
  "kernelspec": {
   "display_name": "Python 3 (ipykernel)",
   "language": "python",
   "name": "python3"
  },
  "language_info": {
   "codemirror_mode": {
    "name": "ipython",
    "version": 3
   },
   "file_extension": ".py",
   "mimetype": "text/x-python",
   "name": "python",
   "nbconvert_exporter": "python",
   "pygments_lexer": "ipython3",
   "version": "3.9.7"
  }
 },
 "nbformat": 4,
 "nbformat_minor": 5
}
