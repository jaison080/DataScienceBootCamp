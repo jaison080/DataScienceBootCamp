{
 "cells": [
  {
   "cell_type": "code",
   "execution_count": 3,
   "id": "283cf28e",
   "metadata": {},
   "outputs": [],
   "source": [
    "def beef():\n",
    "    print(\"Yo,functions are cool!!\")"
   ]
  },
  {
   "cell_type": "code",
   "execution_count": 4,
   "id": "47e9b28d",
   "metadata": {},
   "outputs": [
    {
     "name": "stdout",
     "output_type": "stream",
     "text": [
      "Yo,functions are cool!!\n"
     ]
    }
   ],
   "source": [
    "beef()"
   ]
  },
  {
   "cell_type": "code",
   "execution_count": 5,
   "id": "4e72be11",
   "metadata": {},
   "outputs": [
    {
     "name": "stdout",
     "output_type": "stream",
     "text": [
      "Yo,functions are cool!!\n"
     ]
    }
   ],
   "source": [
    "beef()"
   ]
  },
  {
   "cell_type": "code",
   "execution_count": 6,
   "id": "85bc030e",
   "metadata": {},
   "outputs": [
    {
     "name": "stdout",
     "output_type": "stream",
     "text": [
      "Yo,functions are cool!!\n"
     ]
    }
   ],
   "source": [
    "beef()"
   ]
  },
  {
   "cell_type": "code",
   "execution_count": 7,
   "id": "cd86f364",
   "metadata": {},
   "outputs": [],
   "source": [
    "def bitcoin_to_usd(btc):\n",
    "    amount=btc*527\n",
    "    print(amount)"
   ]
  },
  {
   "cell_type": "code",
   "execution_count": 8,
   "id": "b19d4167",
   "metadata": {},
   "outputs": [
    {
     "name": "stdout",
     "output_type": "stream",
     "text": [
      "Yo,functions are cool!!\n"
     ]
    }
   ],
   "source": [
    "beef()"
   ]
  },
  {
   "cell_type": "code",
   "execution_count": 9,
   "id": "4fc1e66e",
   "metadata": {},
   "outputs": [
    {
     "name": "stdout",
     "output_type": "stream",
     "text": [
      "2028.95\n"
     ]
    }
   ],
   "source": [
    "bitcoin_to_usd(3.85)"
   ]
  },
  {
   "cell_type": "code",
   "execution_count": 10,
   "id": "650e949e",
   "metadata": {},
   "outputs": [
    {
     "name": "stdout",
     "output_type": "stream",
     "text": [
      "6851\n"
     ]
    }
   ],
   "source": [
    "bitcoin_to_usd(13)"
   ]
  },
  {
   "cell_type": "code",
   "execution_count": null,
   "id": "7366b9ad",
   "metadata": {},
   "outputs": [],
   "source": []
  }
 ],
 "metadata": {
  "kernelspec": {
   "display_name": "Python 3 (ipykernel)",
   "language": "python",
   "name": "python3"
  },
  "language_info": {
   "codemirror_mode": {
    "name": "ipython",
    "version": 3
   },
   "file_extension": ".py",
   "mimetype": "text/x-python",
   "name": "python",
   "nbconvert_exporter": "python",
   "pygments_lexer": "ipython3",
   "version": "3.9.7"
  }
 },
 "nbformat": 4,
 "nbformat_minor": 5
}
