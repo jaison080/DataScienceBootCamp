{
 "cells": [
  {
   "cell_type": "code",
   "execution_count": 1,
   "id": "2f0a7102",
   "metadata": {},
   "outputs": [],
   "source": [
    "import pandas as pd"
   ]
  },
  {
   "cell_type": "code",
   "execution_count": 4,
   "id": "6b6a936c",
   "metadata": {},
   "outputs": [],
   "source": [
    "sma_data=pd.read_csv(\"Standard_Metropolitan_Areas_Data-data.csv\")"
   ]
  },
  {
   "cell_type": "code",
   "execution_count": 6,
   "id": "e8f89fef",
   "metadata": {},
   "outputs": [
    {
     "data": {
      "text/plain": [
       "(99, 10)"
      ]
     },
     "execution_count": 6,
     "metadata": {},
     "output_type": "execute_result"
    }
   ],
   "source": [
    "sma_data.shape"
   ]
  },
  {
   "cell_type": "code",
   "execution_count": 10,
   "id": "7de62483",
   "metadata": {},
   "outputs": [
    {
     "data": {
      "text/plain": [
       "land_area           int64\n",
       "percent_city      float64\n",
       "percent_senior    float64\n",
       "physicians          int64\n",
       "hospital_beds       int64\n",
       "graduates         float64\n",
       "work_force        float64\n",
       "income              int64\n",
       "region              int64\n",
       "crime_rate        float64\n",
       "dtype: object"
      ]
     },
     "execution_count": 10,
     "metadata": {},
     "output_type": "execute_result"
    }
   ],
   "source": [
    "sma_data.dtypes"
   ]
  },
  {
   "cell_type": "code",
   "execution_count": 11,
   "id": "2543d8f5",
   "metadata": {},
   "outputs": [
    {
     "name": "stdout",
     "output_type": "stream",
     "text": [
      "<class 'pandas.core.frame.DataFrame'>\n",
      "RangeIndex: 99 entries, 0 to 98\n",
      "Data columns (total 10 columns):\n",
      " #   Column          Non-Null Count  Dtype  \n",
      "---  ------          --------------  -----  \n",
      " 0   land_area       99 non-null     int64  \n",
      " 1   percent_city    99 non-null     float64\n",
      " 2   percent_senior  99 non-null     float64\n",
      " 3   physicians      99 non-null     int64  \n",
      " 4   hospital_beds   99 non-null     int64  \n",
      " 5   graduates       99 non-null     float64\n",
      " 6   work_force      99 non-null     float64\n",
      " 7   income          99 non-null     int64  \n",
      " 8   region          99 non-null     int64  \n",
      " 9   crime_rate      99 non-null     float64\n",
      "dtypes: float64(5), int64(5)\n",
      "memory usage: 7.9 KB\n"
     ]
    }
   ],
   "source": [
    "sma_data.info()"
   ]
  },
  {
   "cell_type": "code",
   "execution_count": null,
   "id": "44350ca5",
   "metadata": {},
   "outputs": [],
   "source": []
  }
 ],
 "metadata": {
  "kernelspec": {
   "display_name": "Python 3 (ipykernel)",
   "language": "python",
   "name": "python3"
  },
  "language_info": {
   "codemirror_mode": {
    "name": "ipython",
    "version": 3
   },
   "file_extension": ".py",
   "mimetype": "text/x-python",
   "name": "python",
   "nbconvert_exporter": "python",
   "pygments_lexer": "ipython3",
   "version": "3.9.7"
  }
 },
 "nbformat": 4,
 "nbformat_minor": 5
}
