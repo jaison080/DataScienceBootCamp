{
 "cells": [
  {
   "cell_type": "code",
   "execution_count": null,
   "id": "3a826ab9",
   "metadata": {},
   "outputs": [],
   "source": [
    "item1=\"bread\""
   ]
  },
  {
   "cell_type": "code",
   "execution_count": null,
   "id": "d736c441",
   "metadata": {},
   "outputs": [],
   "source": [
    "item2=\"pasta\""
   ]
  },
  {
   "cell_type": "code",
   "execution_count": null,
   "id": "6a1c39d0",
   "metadata": {},
   "outputs": [],
   "source": [
    "item3=\"fruits\""
   ]
  },
  {
   "cell_type": "markdown",
   "id": "4b9345e9",
   "metadata": {},
   "source": []
  }
 ],
 "metadata": {
  "kernelspec": {
   "display_name": "Python 3 (ipykernel)",
   "language": "python",
   "name": "python3"
  },
  "language_info": {
   "codemirror_mode": {
    "name": "ipython",
    "version": 3
   },
   "file_extension": ".py",
   "mimetype": "text/x-python",
   "name": "python",
   "nbconvert_exporter": "python",
   "pygments_lexer": "ipython3",
   "version": "3.9.7"
  }
 },
 "nbformat": 4,
 "nbformat_minor": 5
}
